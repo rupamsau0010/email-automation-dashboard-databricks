{
 "cells": [
  {
   "cell_type": "code",
   "execution_count": 0,
   "metadata": {
    "application/vnd.databricks.v1+cell": {
     "cellMetadata": {
      "byteLimit": 2048000,
      "rowLimit": 10000
     },
     "inputWidgets": {},
     "nuid": "94901e00-0e82-4abd-bcbe-809902243714",
     "showTitle": false,
     "title": ""
    }
   },
   "outputs": [],
   "source": [
    "from pyspark.sql.types import StructType, StructField, StringType, IntegerType, DateType\n",
    "from pyspark.sql.functions import *\n",
    "from functools import reduce  \n",
    "from pyspark.sql import DataFrame\n",
    "from pyspark.sql.window import Window"
   ]
  },
  {
   "cell_type": "code",
   "execution_count": 0,
   "metadata": {
    "application/vnd.databricks.v1+cell": {
     "cellMetadata": {
      "byteLimit": 2048000,
      "rowLimit": 10000
     },
     "inputWidgets": {},
     "nuid": "fe7335a5-50d6-4f6e-bcfd-dd039abf2123",
     "showTitle": false,
     "title": ""
    }
   },
   "outputs": [],
   "source": [
    "# Create the Schema\n",
    "dataSchema = StructType([\n",
    "    StructField(\"sender_id\", StringType(), True),\n",
    "    StructField(\"employee_ids\", StringType(), True),\n",
    "    StructField(\"assigned_date\", StringType(), True),\n",
    "    StructField(\"task_name\", StringType(), True),\n",
    "    StructField(\"task_details\", StringType(), True),\n",
    "    StructField(\"last_date\", StringType(), True),\n",
    "    StructField(\"severity\", IntegerType(), True),\n",
    "    StructField(\"cc\", StringType(), True),\n",
    "    StructField(\"time_after_cc\", IntegerType(), True),\n",
    "    StructField(\"bcc\", StringType(), True),\n",
    "    StructField(\"time_after_bcc\", IntegerType(), True)\n",
    "])"
   ]
  },
  {
   "cell_type": "code",
   "execution_count": 0,
   "metadata": {
    "application/vnd.databricks.v1+cell": {
     "cellMetadata": {
      "byteLimit": 2048000,
      "rowLimit": 10000
     },
     "inputWidgets": {},
     "nuid": "ba526dd6-d9f6-49ca-a081-d7c09f4e4362",
     "showTitle": false,
     "title": ""
    }
   },
   "outputs": [],
   "source": [
    "# function to Create DataFrame from all the files\n",
    "\n",
    "def extract_df(element):\n",
    "    base_data = spark.read \\\n",
    "       .option(\"header\", True) \\\n",
    "       .schema(dataSchema) \\\n",
    "       .csv(element.path)\n",
    "    \n",
    "    # print(base_data)\n",
    "    return base_data"
   ]
  },
  {
   "cell_type": "code",
   "execution_count": 0,
   "metadata": {
    "application/vnd.databricks.v1+cell": {
     "cellMetadata": {
      "byteLimit": 2048000,
      "rowLimit": 10000
     },
     "inputWidgets": {},
     "nuid": "794fc5f9-4549-476f-a7de-f244952cf5a9",
     "showTitle": false,
     "title": ""
    }
   },
   "outputs": [],
   "source": [
    "# load the data by calling the function\n",
    "\n",
    "data_loc_arr = dbutils.fs.ls(\"/mnt/rupamemailautomation/managersdata\")\n",
    "list_df = list(map(extract_df, data_loc_arr))"
   ]
  },
  {
   "cell_type": "code",
   "execution_count": 0,
   "metadata": {
    "application/vnd.databricks.v1+cell": {
     "cellMetadata": {
      "byteLimit": 2048000,
      "rowLimit": 10000
     },
     "inputWidgets": {},
     "nuid": "f3953c13-a61a-4d69-a20f-70a0ffe0d83e",
     "showTitle": false,
     "title": ""
    }
   },
   "outputs": [],
   "source": [
    "# display the data\n",
    "# [display(df) for df in list_df]"
   ]
  },
  {
   "cell_type": "code",
   "execution_count": 0,
   "metadata": {
    "application/vnd.databricks.v1+cell": {
     "cellMetadata": {
      "byteLimit": 2048000,
      "rowLimit": 10000
     },
     "inputWidgets": {},
     "nuid": "5859e920-926d-40ad-bec4-4fe7ba42015a",
     "showTitle": false,
     "title": ""
    }
   },
   "outputs": [],
   "source": [
    "# make a single df from all the available dfs\n",
    "df = reduce(DataFrame.union, list_df)"
   ]
  },
  {
   "cell_type": "code",
   "execution_count": 0,
   "metadata": {
    "application/vnd.databricks.v1+cell": {
     "cellMetadata": {
      "byteLimit": 2048000,
      "rowLimit": 10000
     },
     "inputWidgets": {},
     "nuid": "61a59c3a-3877-4318-8a61-8f4c44d0149b",
     "showTitle": false,
     "title": ""
    }
   },
   "outputs": [],
   "source": [
    "# display(df)"
   ]
  },
  {
   "cell_type": "code",
   "execution_count": 0,
   "metadata": {
    "application/vnd.databricks.v1+cell": {
     "cellMetadata": {
      "byteLimit": 2048000,
      "rowLimit": 10000
     },
     "inputWidgets": {},
     "nuid": "4f4ef72c-a7ca-45c0-ba2e-fde3a0c90b94",
     "showTitle": false,
     "title": ""
    }
   },
   "outputs": [],
   "source": [
    "df1 = df.withColumn(\"assigned_date\", to_date(\"assigned_date\", \"dd.MM.yy\").cast(DateType())) \\\n",
    "        .withColumn(\"last_date\", to_date(\"last_date\", \"dd.MM.yy\").cast(DateType()))"
   ]
  },
  {
   "cell_type": "code",
   "execution_count": 0,
   "metadata": {
    "application/vnd.databricks.v1+cell": {
     "cellMetadata": {
      "byteLimit": 2048000,
      "rowLimit": 10000
     },
     "inputWidgets": {},
     "nuid": "89c200dd-a40a-4925-b90c-a2a88592f3e1",
     "showTitle": false,
     "title": ""
    }
   },
   "outputs": [],
   "source": [
    "# display(df)\n",
    "# display(df1)\n",
    "# df1.printSchema()"
   ]
  },
  {
   "cell_type": "code",
   "execution_count": 0,
   "metadata": {
    "application/vnd.databricks.v1+cell": {
     "cellMetadata": {
      "byteLimit": 2048000,
      "rowLimit": 10000
     },
     "inputWidgets": {},
     "nuid": "458dcc8c-be3d-4cc7-8f65-df9fad971a5c",
     "showTitle": false,
     "title": ""
    }
   },
   "outputs": [],
   "source": [
    "df2 = df1.withColumn(\"employee_ids\", split(\"employee_ids\", \",\")) \\\n",
    "         .select(\"*\", explode(\"employee_ids\").alias(\"employee_id\")) \\\n",
    "         .drop(\"employee_ids\")"
   ]
  },
  {
   "cell_type": "code",
   "execution_count": 0,
   "metadata": {
    "application/vnd.databricks.v1+cell": {
     "cellMetadata": {
      "byteLimit": 2048000,
      "rowLimit": 10000
     },
     "inputWidgets": {},
     "nuid": "401cb68a-ac05-44fc-9bfa-aa7b6c6aaed1",
     "showTitle": false,
     "title": ""
    }
   },
   "outputs": [],
   "source": [
    "# display(df2)"
   ]
  },
  {
   "cell_type": "code",
   "execution_count": 0,
   "metadata": {
    "application/vnd.databricks.v1+cell": {
     "cellMetadata": {
      "byteLimit": 2048000,
      "rowLimit": 10000
     },
     "inputWidgets": {},
     "nuid": "2b82a84f-4fe0-427f-83f0-072da2b9de30",
     "showTitle": false,
     "title": ""
    }
   },
   "outputs": [],
   "source": [
    "df2 = df2.withColumn(\"employee_id\", trim(df2.employee_id))"
   ]
  },
  {
   "cell_type": "code",
   "execution_count": 0,
   "metadata": {
    "application/vnd.databricks.v1+cell": {
     "cellMetadata": {
      "byteLimit": 2048000,
      "rowLimit": 10000
     },
     "inputWidgets": {},
     "nuid": "42d22b32-2f19-42b1-9608-5b4775d6648f",
     "showTitle": false,
     "title": ""
    }
   },
   "outputs": [],
   "source": [
    "# display(df2)"
   ]
  },
  {
   "cell_type": "code",
   "execution_count": 0,
   "metadata": {
    "application/vnd.databricks.v1+cell": {
     "cellMetadata": {
      "byteLimit": 2048000,
      "rowLimit": 10000
     },
     "inputWidgets": {},
     "nuid": "fb9967d9-e8d6-4310-b84f-6f9e4b7a95dd",
     "showTitle": false,
     "title": ""
    }
   },
   "outputs": [],
   "source": [
    "# add \"completed\" column with default value as False and no_of_times_mail_sent column with default value as 0\n",
    "\n",
    "df3 = df2.withColumn(\"completed\", lit(False)).withColumn(\"no_of_times_mail_sent\", lit(0))"
   ]
  },
  {
   "cell_type": "code",
   "execution_count": 0,
   "metadata": {
    "application/vnd.databricks.v1+cell": {
     "cellMetadata": {
      "byteLimit": 2048000,
      "rowLimit": 10000
     },
     "inputWidgets": {},
     "nuid": "bb3c6311-8b2b-4589-8b95-07341efde285",
     "showTitle": false,
     "title": ""
    }
   },
   "outputs": [],
   "source": [
    "# display(df3)"
   ]
  },
  {
   "cell_type": "code",
   "execution_count": 0,
   "metadata": {
    "application/vnd.databricks.v1+cell": {
     "cellMetadata": {
      "byteLimit": 2048000,
      "rowLimit": 10000
     },
     "inputWidgets": {},
     "nuid": "99bb0bb2-c340-422a-ad05-06ddbe9a4ad4",
     "showTitle": false,
     "title": ""
    }
   },
   "outputs": [],
   "source": [
    "# df3.select(col(\"sender_id\"), col(\"employee_id\"), col(\"assigned_date\")).filter(col(\"employee_id\") == \"senior.manager.one@gofirst.onmicrosoft.com\").display()\n",
    "\n",
    "# df100 = df3.filter(col(\"employee_id\") == \"senior.manager.one@gofirst.onmicrosoft.com\")\n",
    "\n",
    "# window_spec_100 = Window.partitionBy(col(\"sender_id\"), col(\"employee_id\"), col(\"assigned_date\")).orderBy(col(\"last_date\"))\n",
    "\n",
    "# df101 = df100.withColumn(\"rank_by_employee_sender_date\", row_number().over(window_spec_100))\n",
    "\n",
    "# df101.display()"
   ]
  },
  {
   "cell_type": "code",
   "execution_count": 0,
   "metadata": {
    "application/vnd.databricks.v1+cell": {
     "cellMetadata": {
      "byteLimit": 2048000,
      "rowLimit": 10000
     },
     "inputWidgets": {},
     "nuid": "044d9cfc-ad3d-4520-9454-39b213d26184",
     "showTitle": false,
     "title": ""
    }
   },
   "outputs": [],
   "source": [
    "window_spec = Window.partitionBy(col(\"sender_id\"), col(\"employee_id\"), col(\"assigned_date\")).orderBy(col(\"last_date\"))"
   ]
  },
  {
   "cell_type": "code",
   "execution_count": 0,
   "metadata": {
    "application/vnd.databricks.v1+cell": {
     "cellMetadata": {
      "byteLimit": 2048000,
      "rowLimit": 10000
     },
     "inputWidgets": {},
     "nuid": "04a0db7e-c88b-4e5f-a223-30e39f869eff",
     "showTitle": false,
     "title": ""
    }
   },
   "outputs": [],
   "source": [
    "df4 = df3.withColumn(\"rank_by_employee_sender_date\", row_number().over(window_spec))"
   ]
  },
  {
   "cell_type": "code",
   "execution_count": 0,
   "metadata": {
    "application/vnd.databricks.v1+cell": {
     "cellMetadata": {
      "byteLimit": 2048000,
      "rowLimit": 10000
     },
     "inputWidgets": {},
     "nuid": "aec800d0-4bf1-4f00-ae21-20616d60d091",
     "showTitle": false,
     "title": ""
    }
   },
   "outputs": [],
   "source": [
    "# display(df4)"
   ]
  },
  {
   "cell_type": "code",
   "execution_count": 0,
   "metadata": {
    "application/vnd.databricks.v1+cell": {
     "cellMetadata": {
      "byteLimit": 2048000,
      "rowLimit": 10000
     },
     "inputWidgets": {},
     "nuid": "159819f3-43bc-4605-b062-121cebf15d2f",
     "showTitle": false,
     "title": ""
    }
   },
   "outputs": [],
   "source": [
    "task_id = regexp_replace(concat(substring_index(col(\"sender_id\"), \"@\", 1), lit(\"-\"), substring_index(col(\"employee_id\"), \"@\", 1), lit(\"-\"), regexp_replace(col(\"assigned_date\").cast(StringType()), \"-\", \"\"), lit(\"-\"), col(\"rank_by_employee_sender_date\").cast(StringType())),  \"\\s+\", \"\")\n",
    "\n",
    "df5 = df4.withColumn(\"task_id\", task_id)"
   ]
  },
  {
   "cell_type": "code",
   "execution_count": 0,
   "metadata": {
    "application/vnd.databricks.v1+cell": {
     "cellMetadata": {
      "byteLimit": 2048000,
      "rowLimit": 10000
     },
     "inputWidgets": {},
     "nuid": "20ac7c69-a016-41de-b1fe-c9b2f7ac6caa",
     "showTitle": false,
     "title": ""
    }
   },
   "outputs": [],
   "source": [
    "display(df5)"
   ]
  },
  {
   "cell_type": "code",
   "execution_count": 0,
   "metadata": {
    "application/vnd.databricks.v1+cell": {
     "cellMetadata": {
      "byteLimit": 2048000,
      "rowLimit": 10000
     },
     "inputWidgets": {},
     "nuid": "f8ec728e-0f57-4e70-bcb3-b69c42dd1751",
     "showTitle": false,
     "title": ""
    }
   },
   "outputs": [],
   "source": [
    "# df5.printSchema()"
   ]
  },
  {
   "cell_type": "code",
   "execution_count": 0,
   "metadata": {
    "application/vnd.databricks.v1+cell": {
     "cellMetadata": {
      "byteLimit": 2048000,
      "rowLimit": 10000
     },
     "inputWidgets": {},
     "nuid": "c079baaa-336e-49b4-9aed-7ce1167d8436",
     "showTitle": false,
     "title": ""
    }
   },
   "outputs": [],
   "source": [
    "### Write the data on the Azure SQL Database (Datamart)\n",
    "### sqldburl\n",
    "\n",
    "sqldburl = dbutils.secrets.get(scope = \"databricks-scope\", key = \"databricks-app-sqldb-url\")\n",
    "user = dbutils.secrets.get(scope = \"databricks-scope\", key = \"databricks-scope-sqldb-user\")\n",
    "password = dbutils.secrets.get(scope = \"databricks-scope\", key = \"databricks-scope-sqldb-password\")"
   ]
  },
  {
   "cell_type": "code",
   "execution_count": 0,
   "metadata": {
    "application/vnd.databricks.v1+cell": {
     "cellMetadata": {
      "byteLimit": 2048000,
      "rowLimit": 10000
     },
     "inputWidgets": {},
     "nuid": "79a90440-300f-49a8-b4af-792276e452ad",
     "showTitle": false,
     "title": ""
    }
   },
   "outputs": [],
   "source": [
    "# Assuming 'df' is the DataFrame you want to write to SQL\n",
    "# 'sqldburl' is the URL of your Azure SQL database, including the database name\n",
    "# 'demo' is the name of the table you want to create in your Azure SQL database\n",
    "\n",
    "# Configure the JDBC connection properties\n",
    "jdbc_url = sqldburl\n",
    "table_name = \"task_details\"\n",
    "properties = {\n",
    "    \"user\": user,\n",
    "    \"password\": password,\n",
    "    \"driver\": \"com.microsoft.sqlserver.jdbc.SQLServerDriver\"\n",
    "}"
   ]
  },
  {
   "cell_type": "code",
   "execution_count": 0,
   "metadata": {
    "application/vnd.databricks.v1+cell": {
     "cellMetadata": {
      "byteLimit": 2048000,
      "rowLimit": 10000
     },
     "inputWidgets": {},
     "nuid": "9dea161b-efce-4c10-b10d-30dd77515c3c",
     "showTitle": false,
     "title": ""
    }
   },
   "outputs": [],
   "source": [
    "# Write the DataFrame to SQL using the JDBC connector\n",
    "df5.write.jdbc(url=jdbc_url, table=table_name, mode=\"append\", properties=properties)"
   ]
  },
  {
   "cell_type": "code",
   "execution_count": 0,
   "metadata": {
    "application/vnd.databricks.v1+cell": {
     "cellMetadata": {
      "byteLimit": 2048000,
      "rowLimit": 10000
     },
     "inputWidgets": {},
     "nuid": "431caf1d-655a-4e5c-9970-8b683c8d9fc8",
     "showTitle": false,
     "title": ""
    }
   },
   "outputs": [],
   "source": [
    "dbutils.notebook.exit(\"success\")"
   ]
  }
 ],
 "metadata": {
  "application/vnd.databricks.v1+notebook": {
   "dashboards": [],
   "language": "python",
   "notebookMetadata": {
    "pythonIndentUnit": 4
   },
   "notebookName": "task_data_transformation_submitted_by_managers",
   "notebookOrigID": 27192471555230,
   "widgets": {}
  }
 },
 "nbformat": 4,
 "nbformat_minor": 0
}
