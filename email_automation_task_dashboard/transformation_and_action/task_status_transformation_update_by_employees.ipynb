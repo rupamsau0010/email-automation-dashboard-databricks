{
 "cells": [
  {
   "cell_type": "code",
   "execution_count": 0,
   "metadata": {
    "application/vnd.databricks.v1+cell": {
     "cellMetadata": {
      "byteLimit": 2048000,
      "rowLimit": 10000
     },
     "inputWidgets": {},
     "nuid": "1ab01a0f-5ff1-41f5-9a18-892f62e421a3",
     "showTitle": false,
     "title": ""
    }
   },
   "outputs": [],
   "source": [
    "from pyspark.sql.types import StructType, StructField, StringType, IntegerType, DateType\n",
    "from pyspark.sql.functions import *\n",
    "from functools import reduce  \n",
    "from pyspark.sql import DataFrame\n",
    "from pyspark.sql.window import Window"
   ]
  },
  {
   "cell_type": "code",
   "execution_count": 0,
   "metadata": {
    "application/vnd.databricks.v1+cell": {
     "cellMetadata": {
      "byteLimit": 2048000,
      "rowLimit": 10000
     },
     "inputWidgets": {},
     "nuid": "5faa9d71-5405-4c7c-ba90-b6ce35e241d7",
     "showTitle": false,
     "title": ""
    }
   },
   "outputs": [],
   "source": [
    "dataSchema = StructType([\n",
    "    StructField(\"employee_id\", StringType(), True),\n",
    "    StructField(\"task_id\", StringType(), True),\n",
    "    StructField(\"completed\", StringType(), True)\n",
    "])"
   ]
  },
  {
   "cell_type": "code",
   "execution_count": 0,
   "metadata": {
    "application/vnd.databricks.v1+cell": {
     "cellMetadata": {
      "byteLimit": 2048000,
      "rowLimit": 10000
     },
     "inputWidgets": {},
     "nuid": "de65ffc0-6ca6-43f6-b667-48f7a2ec0dec",
     "showTitle": false,
     "title": ""
    }
   },
   "outputs": [],
   "source": [
    "# function to Create DataFrame from all the files\n",
    "\n",
    "def extract_df(element):\n",
    "    base_data = spark.read \\\n",
    "       .option(\"header\", True) \\\n",
    "       .schema(dataSchema) \\\n",
    "       .csv(element.path)\n",
    "    \n",
    "    # print(base_data)\n",
    "    return base_data"
   ]
  },
  {
   "cell_type": "code",
   "execution_count": 0,
   "metadata": {
    "application/vnd.databricks.v1+cell": {
     "cellMetadata": {
      "byteLimit": 2048000,
      "rowLimit": 10000
     },
     "inputWidgets": {},
     "nuid": "b6ee92d1-3ce1-4e58-8fb8-3171b61e9d00",
     "showTitle": false,
     "title": ""
    }
   },
   "outputs": [],
   "source": [
    "# load the data by calling the function\n",
    "\n",
    "data_loc_arr = dbutils.fs.ls(\"/mnt/rupamemailautomation/employeesdata\")\n",
    "list_df = list(map(extract_df, data_loc_arr))"
   ]
  },
  {
   "cell_type": "code",
   "execution_count": 0,
   "metadata": {
    "application/vnd.databricks.v1+cell": {
     "cellMetadata": {
      "byteLimit": 2048000,
      "rowLimit": 10000
     },
     "inputWidgets": {},
     "nuid": "30e9f8e8-a790-4970-a3f1-178d5ba5b605",
     "showTitle": false,
     "title": ""
    }
   },
   "outputs": [],
   "source": [
    "# display the data\n",
    "# [display(df) for df in list_df]"
   ]
  },
  {
   "cell_type": "code",
   "execution_count": 0,
   "metadata": {
    "application/vnd.databricks.v1+cell": {
     "cellMetadata": {
      "byteLimit": 2048000,
      "rowLimit": 10000
     },
     "inputWidgets": {},
     "nuid": "c4f1cc69-5066-4de7-88da-405de75a09e0",
     "showTitle": false,
     "title": ""
    }
   },
   "outputs": [],
   "source": [
    "# make a single df from all the available dfs\n",
    "df = reduce(DataFrame.union, list_df)"
   ]
  },
  {
   "cell_type": "code",
   "execution_count": 0,
   "metadata": {
    "application/vnd.databricks.v1+cell": {
     "cellMetadata": {
      "byteLimit": 2048000,
      "rowLimit": 10000
     },
     "inputWidgets": {},
     "nuid": "ace90f60-5fa1-43af-aecd-ab94d212c03c",
     "showTitle": false,
     "title": ""
    }
   },
   "outputs": [],
   "source": [
    "# display(df)"
   ]
  },
  {
   "cell_type": "code",
   "execution_count": 0,
   "metadata": {
    "application/vnd.databricks.v1+cell": {
     "cellMetadata": {
      "byteLimit": 2048000,
      "rowLimit": 10000
     },
     "inputWidgets": {},
     "nuid": "a7a7cba3-8a09-4356-b153-35a90920f708",
     "showTitle": false,
     "title": ""
    }
   },
   "outputs": [],
   "source": [
    "df1 = df.withColumn(\"lower_completed\", lower(df.completed)).drop(df.completed)"
   ]
  },
  {
   "cell_type": "code",
   "execution_count": 0,
   "metadata": {
    "application/vnd.databricks.v1+cell": {
     "cellMetadata": {
      "byteLimit": 2048000,
      "rowLimit": 10000
     },
     "inputWidgets": {},
     "nuid": "36835dbc-3f97-4843-a2f5-7aeb9ba55d85",
     "showTitle": false,
     "title": ""
    }
   },
   "outputs": [],
   "source": [
    "# display(df1)"
   ]
  },
  {
   "cell_type": "code",
   "execution_count": 0,
   "metadata": {
    "application/vnd.databricks.v1+cell": {
     "cellMetadata": {
      "byteLimit": 2048000,
      "rowLimit": 10000
     },
     "inputWidgets": {},
     "nuid": "ad6ca7e9-4ef4-4506-8be4-10873bac6735",
     "showTitle": false,
     "title": ""
    }
   },
   "outputs": [],
   "source": [
    "sqldburl = dbutils.secrets.get(scope = \"databricks-scope\", key = \"databricks-app-sqldb-url\")\n",
    "user = dbutils.secrets.get(scope = \"databricks-scope\", key = \"databricks-scope-sqldb-user\")\n",
    "password = dbutils.secrets.get(scope = \"databricks-scope\", key = \"databricks-scope-sqldb-password\")"
   ]
  },
  {
   "cell_type": "code",
   "execution_count": 0,
   "metadata": {
    "application/vnd.databricks.v1+cell": {
     "cellMetadata": {
      "byteLimit": 2048000,
      "rowLimit": 10000
     },
     "inputWidgets": {},
     "nuid": "857c7c60-af81-4947-ae64-d09fe9bafdfd",
     "showTitle": false,
     "title": ""
    }
   },
   "outputs": [],
   "source": [
    "# Configure the JDBC connection properties\n",
    "jdbc_url = sqldburl\n",
    "table_name = \"task_details\"\n",
    "properties = {\n",
    "    \"user\": user,\n",
    "    \"password\": password,\n",
    "    \"driver\": \"com.microsoft.sqlserver.jdbc.SQLServerDriver\"\n",
    "}"
   ]
  },
  {
   "cell_type": "code",
   "execution_count": 0,
   "metadata": {
    "application/vnd.databricks.v1+cell": {
     "cellMetadata": {
      "byteLimit": 2048000,
      "rowLimit": 10000
     },
     "inputWidgets": {},
     "nuid": "70fdcf37-8757-4849-b8f1-64a7f10ed70c",
     "showTitle": false,
     "title": ""
    }
   },
   "outputs": [],
   "source": [
    "task_details_df = spark.read.jdbc(url=jdbc_url, table=table_name, properties=properties)"
   ]
  },
  {
   "cell_type": "code",
   "execution_count": 0,
   "metadata": {
    "application/vnd.databricks.v1+cell": {
     "cellMetadata": {
      "byteLimit": 2048000,
      "rowLimit": 10000
     },
     "inputWidgets": {},
     "nuid": "ae4269a8-7a49-40fa-a845-3a60c8b63a60",
     "showTitle": false,
     "title": ""
    }
   },
   "outputs": [],
   "source": [
    "task_details_df.cache()"
   ]
  },
  {
   "cell_type": "code",
   "execution_count": 0,
   "metadata": {
    "application/vnd.databricks.v1+cell": {
     "cellMetadata": {
      "byteLimit": 2048000,
      "rowLimit": 10000
     },
     "inputWidgets": {},
     "nuid": "fc97ce40-a3c0-4f77-8373-3311b68e70aa",
     "showTitle": false,
     "title": ""
    }
   },
   "outputs": [],
   "source": [
    "task_details_df.printSchema()"
   ]
  },
  {
   "cell_type": "code",
   "execution_count": 0,
   "metadata": {
    "application/vnd.databricks.v1+cell": {
     "cellMetadata": {
      "byteLimit": 2048000,
      "rowLimit": 10000
     },
     "inputWidgets": {},
     "nuid": "358bf31c-1016-49f1-83ae-28637563da7c",
     "showTitle": false,
     "title": ""
    }
   },
   "outputs": [],
   "source": [
    "updated_df = task_details_df.join(df1, [\"employee_id\", \"task_id\"], \"left_outer\")"
   ]
  },
  {
   "cell_type": "code",
   "execution_count": 0,
   "metadata": {
    "application/vnd.databricks.v1+cell": {
     "cellMetadata": {
      "byteLimit": 2048000,
      "rowLimit": 10000
     },
     "inputWidgets": {},
     "nuid": "968bab8e-69d5-478e-9dce-07b1d42e4b5f",
     "showTitle": false,
     "title": ""
    }
   },
   "outputs": [],
   "source": [
    "display(updated_df)"
   ]
  },
  {
   "cell_type": "code",
   "execution_count": 0,
   "metadata": {
    "application/vnd.databricks.v1+cell": {
     "cellMetadata": {
      "byteLimit": 2048000,
      "rowLimit": 10000
     },
     "inputWidgets": {},
     "nuid": "53a3a566-e191-47c4-99d1-781e907dc575",
     "showTitle": false,
     "title": ""
    }
   },
   "outputs": [],
   "source": [
    "updated_df2 = updated_df.withColumn(\"completed\", when(col('lower_completed') == 'yes', True).otherwise(col('completed')))"
   ]
  },
  {
   "cell_type": "code",
   "execution_count": 0,
   "metadata": {
    "application/vnd.databricks.v1+cell": {
     "cellMetadata": {
      "byteLimit": 2048000,
      "rowLimit": 10000
     },
     "inputWidgets": {},
     "nuid": "dcb3c97a-cab4-46fc-8298-3a0df6ce7ae3",
     "showTitle": false,
     "title": ""
    }
   },
   "outputs": [],
   "source": [
    "display(updated_df2)"
   ]
  },
  {
   "cell_type": "code",
   "execution_count": 0,
   "metadata": {
    "application/vnd.databricks.v1+cell": {
     "cellMetadata": {
      "byteLimit": 2048000,
      "rowLimit": 10000
     },
     "inputWidgets": {},
     "nuid": "deebc061-a457-4dae-951c-a43588afb061",
     "showTitle": false,
     "title": ""
    }
   },
   "outputs": [],
   "source": [
    "updated_df3 = updated_df2.drop(col('lower_completed'))"
   ]
  },
  {
   "cell_type": "code",
   "execution_count": 0,
   "metadata": {
    "application/vnd.databricks.v1+cell": {
     "cellMetadata": {
      "byteLimit": 2048000,
      "rowLimit": 10000
     },
     "inputWidgets": {},
     "nuid": "ddc3aff1-d8c7-4ad5-811c-9d6f797434d4",
     "showTitle": false,
     "title": ""
    }
   },
   "outputs": [],
   "source": [
    "display(updated_df3)"
   ]
  },
  {
   "cell_type": "code",
   "execution_count": 0,
   "metadata": {
    "application/vnd.databricks.v1+cell": {
     "cellMetadata": {
      "byteLimit": 2048000,
      "rowLimit": 10000
     },
     "inputWidgets": {},
     "nuid": "c34710b7-f33a-4035-a912-1f2f3b72e3c1",
     "showTitle": false,
     "title": ""
    }
   },
   "outputs": [],
   "source": [
    "from pyspark.sql.functions import col"
   ]
  },
  {
   "cell_type": "code",
   "execution_count": 0,
   "metadata": {
    "application/vnd.databricks.v1+cell": {
     "cellMetadata": {
      "byteLimit": 2048000,
      "rowLimit": 10000
     },
     "inputWidgets": {},
     "nuid": "77d94e52-c03a-4ffd-9105-5169adb7c771",
     "showTitle": false,
     "title": ""
    }
   },
   "outputs": [],
   "source": [
    "c = updated_df3.filter(col('completed') == True).count()\n",
    "print(c)"
   ]
  },
  {
   "cell_type": "code",
   "execution_count": 0,
   "metadata": {
    "application/vnd.databricks.v1+cell": {
     "cellMetadata": {
      "byteLimit": 2048000,
      "rowLimit": 10000
     },
     "inputWidgets": {},
     "nuid": "e26d644f-90aa-4b89-95c6-da5925f06b3c",
     "showTitle": false,
     "title": ""
    }
   },
   "outputs": [],
   "source": [
    "updated_df3_copy = updated_df3"
   ]
  },
  {
   "cell_type": "code",
   "execution_count": 0,
   "metadata": {
    "application/vnd.databricks.v1+cell": {
     "cellMetadata": {
      "byteLimit": 2048000,
      "rowLimit": 10000
     },
     "inputWidgets": {},
     "nuid": "d180c78d-6796-452e-96e5-4f6ecf5272d1",
     "showTitle": false,
     "title": ""
    }
   },
   "outputs": [],
   "source": [
    "# Check if the table exists and has data\n",
    "updated_df3.write.jdbc(url=jdbc_url, table=table_name, mode=\"overwrite\", properties=properties)\n"
   ]
  },
  {
   "cell_type": "code",
   "execution_count": 0,
   "metadata": {
    "application/vnd.databricks.v1+cell": {
     "cellMetadata": {
      "byteLimit": 2048000,
      "rowLimit": 10000
     },
     "inputWidgets": {},
     "nuid": "beaed2a3-4bed-44e1-bbed-89c409a77b62",
     "showTitle": false,
     "title": ""
    }
   },
   "outputs": [],
   "source": [
    "test_df = spark.read.jdbc(url=jdbc_url, table=table_name, properties=properties)"
   ]
  },
  {
   "cell_type": "code",
   "execution_count": 0,
   "metadata": {
    "application/vnd.databricks.v1+cell": {
     "cellMetadata": {
      "byteLimit": 2048000,
      "rowLimit": 10000
     },
     "inputWidgets": {},
     "nuid": "ef7a611e-ed04-4d26-bf27-891f2ac6f440",
     "showTitle": false,
     "title": ""
    }
   },
   "outputs": [],
   "source": [
    "display(test_df)"
   ]
  },
  {
   "cell_type": "code",
   "execution_count": 0,
   "metadata": {
    "application/vnd.databricks.v1+cell": {
     "cellMetadata": {
      "byteLimit": 2048000,
      "rowLimit": 10000
     },
     "inputWidgets": {},
     "nuid": "ab93f658-d344-4c38-b646-fbda38597e7f",
     "showTitle": false,
     "title": ""
    }
   },
   "outputs": [],
   "source": [
    "test_df_completed = test_df.filter(test_df.completed == True)"
   ]
  },
  {
   "cell_type": "code",
   "execution_count": 0,
   "metadata": {
    "application/vnd.databricks.v1+cell": {
     "cellMetadata": {
      "byteLimit": 2048000,
      "rowLimit": 10000
     },
     "inputWidgets": {},
     "nuid": "38b6a4b2-b93d-4d09-8b79-f650dabcb162",
     "showTitle": false,
     "title": ""
    }
   },
   "outputs": [],
   "source": [
    "display(test_df_completed)"
   ]
  },
  {
   "cell_type": "code",
   "execution_count": 0,
   "metadata": {
    "application/vnd.databricks.v1+cell": {
     "cellMetadata": {
      "byteLimit": 2048000,
      "rowLimit": 10000
     },
     "inputWidgets": {},
     "nuid": "b4863efa-ea3a-42cf-9141-3ef663837cc1",
     "showTitle": false,
     "title": ""
    }
   },
   "outputs": [],
   "source": [
    "dbutils.notebook.exit(\"success\")"
   ]
  }
 ],
 "metadata": {
  "application/vnd.databricks.v1+notebook": {
   "dashboards": [],
   "language": "python",
   "notebookMetadata": {
    "pythonIndentUnit": 4
   },
   "notebookName": "task_status_transformation_update_by_employees",
   "notebookOrigID": 27192471555236,
   "widgets": {}
  }
 },
 "nbformat": 4,
 "nbformat_minor": 0
}
