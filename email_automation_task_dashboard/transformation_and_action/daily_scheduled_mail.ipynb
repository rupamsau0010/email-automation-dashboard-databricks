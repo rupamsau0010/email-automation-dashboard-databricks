{
 "cells": [
  {
   "cell_type": "code",
   "execution_count": 0,
   "metadata": {
    "application/vnd.databricks.v1+cell": {
     "cellMetadata": {
      "byteLimit": 2048000,
      "rowLimit": 10000
     },
     "inputWidgets": {},
     "nuid": "9e91ae44-297a-4bd4-af39-6855b7026e68",
     "showTitle": false,
     "title": ""
    }
   },
   "outputs": [],
   "source": [
    "# import smtplib\n",
    "# from email.mime.text import MIMEText\n",
    "# from email.mime.multipart import MIMEMultipart\n",
    "\n",
    "# # Set up email content\n",
    "# data = [\n",
    "#     {\n",
    "#         'header': 'Header 1',\n",
    "#         'content': 'This is the message of Header 1.',\n",
    "#         'link': 'https://www.google.com',\n",
    "#         'last_date': '2022-02-22',\n",
    "#         'severity': 'High'\n",
    "#     },\n",
    "#     {\n",
    "#         'header': 'Header 2',\n",
    "#         'content': 'This is the message of Header 2.',\n",
    "#         'link': 'https://www.amazon.com',\n",
    "#         'last_date': '2022-03-01',\n",
    "#         'severity': 'Low'\n",
    "#     },\n",
    "#     {\n",
    "#         'header': 'Header 3',\n",
    "#         'content': 'This is the message of Header 3.',\n",
    "#         'link': 'https://www.meta.com',\n",
    "#         'last_date': '2022-03-08',\n",
    "#         'severity': 'Medium'\n",
    "#     }\n",
    "# ]\n",
    "\n",
    "\n",
    "# # Set up the sender's and recipient's email addresses\n",
    "# sender_email = 'rupam.enabled.smtp.auth@gofirst.onmicrosoft.com'\n",
    "# receiver_email = 'rupamsau721401@gmail.com'\n",
    "\n",
    "\n",
    "# # Create a message object and set its attributes\n",
    "# message = MIMEMultipart()\n",
    "# message['From'] = sender_email\n",
    "# message['To'] = receiver_email\n",
    "# message['Subject'] = 'Test email'\n",
    "\n",
    "# # Define the HTML content of the email\n",
    "# body = \"\"\n",
    "# for e in data:\n",
    "#     severity_color = \"white\"\n",
    "#     if e['severity'] == 'Low':\n",
    "#         severity_color = \"#98FB98\" # light green\n",
    "#     elif e['severity'] == 'Medium':\n",
    "#         severity_color = \"#F0E68C\" # khaki\n",
    "#     elif e['severity'] == 'High':\n",
    "#         severity_color = \"#FFA07A\" # light salmon\n",
    "\n",
    "#     header = f\"<h2 style='font-size: 18px; margin-top: 10px; margin-bottom: 5px;'>{e['header']}</h2>\"\n",
    "#     content = f\"<p style='font-size: 16px; margin-top: 5px; margin-bottom: 5px; '>{e['content']}</p>\"\n",
    "#     given_date_and_given_by = f\"<p style='font-size: 14px; margin-top: 5px; margin-bottom: 5px;'>Given By: Subir Kumar Biswas || Date: {e['last_date']}</p>\"\n",
    "#     completed_date = f\"<p style='font-size: 14px; margin-top: 5px; margin-bottom: 5px;'>Complete By: {e['last_date']}</p>\"\n",
    "#     severity = f\"<p style='background-color: {severity_color}; color: black; font-size: 14px; display: inline-block; padding: 5px 10px; border-radius: 5px; margin-top: 5px; margin-bottom: 5px;'>Severity - {e['severity'].capitalize()}</p>\"\n",
    "\n",
    "#     body += f\"<div style='border: 1px solid #ddd; padding: 10px;'>{severity} {given_date_and_given_by} {completed_date}<br/>{header}{content}</div>\"\n",
    "    \n",
    "\n",
    "# # Attach the HTML body to the message\n",
    "# message.attach(MIMEText(body, 'html'))\n",
    "    \n",
    "# # Connect to the SMTP server and send the message\n",
    "# with smtplib.SMTP('smtp.office365.com', 587) as smtp:\n",
    "#     smtp.starttls()\n",
    "#     smtp.login(sender_email, 'Mymodule@123456')\n",
    "#     smtp.send_message(message)\n"
   ]
  },
  {
   "cell_type": "code",
   "execution_count": 0,
   "metadata": {
    "application/vnd.databricks.v1+cell": {
     "cellMetadata": {
      "byteLimit": 2048000,
      "rowLimit": 10000
     },
     "inputWidgets": {},
     "nuid": "2a4f52ad-c11c-45cf-bcb3-9991aa19de13",
     "showTitle": false,
     "title": ""
    }
   },
   "outputs": [],
   "source": [
    "import re\n",
    "\n",
    "def highlight_links(paragraph):\n",
    "    url_regex = r'(?<!href=\")(https?://[^\\s]+)'\n",
    "    return re.sub(url_regex, r'<a href=\"\\g<1>\" target=\"_blank\" style=\"text-decoration:none\">\\g<1></a>', paragraph)\n"
   ]
  },
  {
   "cell_type": "code",
   "execution_count": 0,
   "metadata": {
    "application/vnd.databricks.v1+cell": {
     "cellMetadata": {
      "byteLimit": 2048000,
      "rowLimit": 10000
     },
     "inputWidgets": {},
     "nuid": "bcd7ed0f-21ae-441d-8483-ff8ef1fce0a8",
     "showTitle": false,
     "title": ""
    }
   },
   "outputs": [],
   "source": [
    "import smtplib\n",
    "from email.mime.text import MIMEText\n",
    "from email.mime.multipart import MIMEMultipart"
   ]
  },
  {
   "cell_type": "code",
   "execution_count": 0,
   "metadata": {
    "application/vnd.databricks.v1+cell": {
     "cellMetadata": {
      "byteLimit": 2048000,
      "rowLimit": 10000
     },
     "inputWidgets": {},
     "nuid": "0b1855d5-74b2-4cf7-97fe-8a22cf3b52cf",
     "showTitle": false,
     "title": ""
    }
   },
   "outputs": [],
   "source": [
    "def send_email(sender_email, email_password, receiver_email, cc, bcc, subject, body, data):\n",
    "    # Set up the message object\n",
    "    message = MIMEMultipart()\n",
    "    message['From'] = sender_email\n",
    "    message['To'] = receiver_email\n",
    "            \n",
    "    if cc:\n",
    "        if isinstance(cc, list):\n",
    "            message['Cc'] = ','.join(cc)\n",
    "        else:\n",
    "            message['Cc'] = cc\n",
    "    if bcc:\n",
    "        if isinstance(bcc, list):\n",
    "            message['Bcc'] = ','.join(bcc)\n",
    "        else:\n",
    "            message['Bcc'] = bcc\n",
    "            \n",
    "    if subject:\n",
    "        message['Subject'] = subject\n",
    "        \n",
    "    # Define the HTML content of the email\n",
    "    body = \"\"\n",
    "    for e in data:\n",
    "        # get the severity\n",
    "        severity = \"\"\n",
    "        if e[7] == 1:\n",
    "            severity = \"High\"\n",
    "        elif e[7] == 2:\n",
    "            severity = \"Medium\"\n",
    "        elif e[7] == 3:\n",
    "            severity = \"Low\"\n",
    "        \n",
    "        # get the severity color\n",
    "        severity_color = \"white\"\n",
    "        if severity == 'Low':\n",
    "            severity_color = \"#98FB98\" # light green\n",
    "        elif severity == 'Medium':\n",
    "            severity_color = \"#F0E68C\" # khaki\n",
    "        elif severity == 'High':\n",
    "            severity_color = \"#FFA07A\" # light salmon\n",
    "\n",
    "        header = f\"<h2 style='font-size: 18px; margin-top: 10px; margin-bottom: 5px;'>{e[4]}</h2>\"\n",
    "        content = f\"<p style='font-size: 16px; margin-top: 5px; margin-bottom: 5px; '>{highlight_links(e[5])}</p>\"\n",
    "        given_date_and_given_by = f\"<p style='font-size: 14px; margin-top: 5px; margin-bottom: 5px;'>Given By: {e[2]} || Date: {e[3]}</p>\"\n",
    "        completed_date = f\"<p style='font-size: 14px; font-weight: bold; color: #454545; background-color: yellow; display: inline-block; padding: 5px 10px; margin-top: 5px; margin-bottom: 5px;'>Complete By: {e[6]}</p>\"\n",
    "        severity = f\"<p style='background-color: {severity_color}; color: black; font-size: 14px; display: inline-block; padding: 5px 10px; border-radius: 5px; margin-top: 5px; margin-bottom: 5px;'>Severity - {severity.capitalize()}</p>\"\n",
    "\n",
    "        body += f\"<div style='border: 1px solid #ddd; padding: 10px;'>{severity} {given_date_and_given_by} {completed_date}<br/>{header}{content}</div>\"\n",
    "\n",
    "\n",
    "    # Attach the HTML body to the message\n",
    "    message.attach(MIMEText(body, 'html'))\n",
    "    \n",
    "    # Connect to the SMTP server and send the message\n",
    "    try:\n",
    "        with smtplib.SMTP('smtp.office365.com', 587) as smtp:\n",
    "            smtp.starttls()\n",
    "            smtp.login(sender_email, email_password)\n",
    "            smtp.send_message(message)\n",
    "    except Exception as e:\n",
    "        print(e)\n",
    "        return False\n",
    "    else:\n",
    "        return True"
   ]
  },
  {
   "cell_type": "code",
   "execution_count": 0,
   "metadata": {
    "application/vnd.databricks.v1+cell": {
     "cellMetadata": {
      "byteLimit": 2048000,
      "rowLimit": 10000
     },
     "inputWidgets": {},
     "nuid": "72489045-5236-4fd9-8cea-a4c88e2ba601",
     "showTitle": false,
     "title": ""
    }
   },
   "outputs": [],
   "source": [
    "# sender_email = \"rupam.enabled.smtp.auth@gofirst.onmicrosoft.com\"\n",
    "# receiver_email = \"rupamsau721401@gmail.com\"\n",
    "# cc = [\"sovongiri51@gmail.com\", \"rajlm10bar@gmail.com\"]\n",
    "# bcc = [\"rupam.sau.fiem.cse18@teamfuture.in\", \"info.favfashions@gmail.com\"]\n",
    "# data = [['rupamsau721401@gmail.com', '777777-1000004-20230303-1', '777777@cts.com', '2023-03-03', 'submit timesheet', 'Please submit your timesheet. get the details here - onecognizant.cognizant.com/home', '2023-03-05', 1, '777777@cts.com', 1, None, None, False, 0, 1],\n",
    "#         ['rupamsau721401@gmail.com', '777777-1000004-20230304-1', '777777@cts.com', '2023-03-04', 'urgent security issue', 'There is an urgent security issue occured in your account. Please complete the mentioned steps with atmost priority. Get the details here - onecognizant.cognizant.com/home', '2023-03-05', 1, '777777@cts.com', 0, None, None, False, 0, 1],\n",
    "#         ['rupamsau721401@gmail.com', '888888-1000004-20230303-2', '888888@cts.com', '2023-03-03', 'complete a course', '\"Complete this optional course of \"\"Fundamentals of operating system\"\" by the maintioned date. get the course link here - c-learn.cognizant.com/fundamentals-of-operating-system\"', '2023-03-20', 2, '777777@cts.com', 5, '888888@cts.com', 0, False, 0, 2], \n",
    "#         ['rupamsau721401@gmail.com', 'randomdepartment-1000004-20230303-1', 'randomdepartment@cts.com', '2023-03-03', 'plan for annual meeting', 'We are plaining for a annual meeting. Please confirm your availability on here - forms.microsoft.com/submit/wbqhqkebqedti263i464gewhd2h37dgeededbweVFVW', '2023-03-06', 3, None, None, None, None, False, 0, 1]]\n",
    "\n",
    "# # Get the today's date in this format \"16th Mar 2023\"\n",
    "# from datetime import date\n",
    "\n",
    "# today = date.today()\n",
    "\n",
    "# day = today.strftime(\"%d\").lstrip(\"0\")\n",
    "# month = today.strftime(\"%b\")\n",
    "# year = today.strftime(\"%Y\")\n",
    "\n",
    "# if day.endswith(\"1\") and day != \"11\":\n",
    "#     suffix = \"st\"\n",
    "# elif day.endswith(\"2\") and day != \"12\":\n",
    "#     suffix = \"nd\"\n",
    "# elif day.endswith(\"3\") and day != \"13\":\n",
    "#     suffix = \"rd\"\n",
    "# else:\n",
    "#     suffix = \"th\"\n",
    "\n",
    "# formatted_date = f\"{day}{suffix} {month} {year}\"\n",
    "\n",
    "# subject = f\"Notification for Daily Scheduled mail to {receiver_email}. Date - {formatted_date}\"\n",
    "# body = \"Lorem ipsum dolor sit amet, consectetur adipiscing elit. Nullam varius neque eu lorem laoreet ullamcorper. Nulla facilisi. Nam eu luctus est, vel gravida dolor. Suspendisse non turpis non velit bibendum mollis eget vitae sapien. Fusce euismod elementum est, at ornare magna feugiat a. Nullam sed tellus in purus euismod feugiat. Duis semper massa velit, at aliquet lectus volutpat eu. Sed eget interdum mauris. Quisque sed turpis euismod, pretium libero vel, venenatis mauris.\"\n",
    "\n",
    "\n",
    "# res = send_email(sender_email, receiver_email, cc, bcc, subject, body, data)\n",
    "# print(res)"
   ]
  },
  {
   "cell_type": "code",
   "execution_count": 0,
   "metadata": {
    "application/vnd.databricks.v1+cell": {
     "cellMetadata": {
      "byteLimit": 2048000,
      "rowLimit": 10000
     },
     "inputWidgets": {},
     "nuid": "706d4c1f-ad5a-4ecd-808b-0a65400d517d",
     "showTitle": false,
     "title": ""
    }
   },
   "outputs": [],
   "source": [
    "### sqldburl\n",
    "\n",
    "sqldburl = dbutils.secrets.get(scope = \"databricks-scope\", key = \"databricks-app-sqldb-url\")\n",
    "user = dbutils.secrets.get(scope = \"databricks-scope\", key = \"databricks-scope-sqldb-user\")\n",
    "password = dbutils.secrets.get(scope = \"databricks-scope\", key = \"databricks-scope-sqldb-password\")"
   ]
  },
  {
   "cell_type": "code",
   "execution_count": 0,
   "metadata": {
    "application/vnd.databricks.v1+cell": {
     "cellMetadata": {
      "byteLimit": 2048000,
      "rowLimit": 10000
     },
     "inputWidgets": {},
     "nuid": "98d1b537-f1f9-45eb-aaef-2af0434cc8ae",
     "showTitle": false,
     "title": ""
    }
   },
   "outputs": [],
   "source": [
    "# Assuming 'df' is the DataFrame you want to write to SQL\n",
    "# 'sqldburl' is the URL of your Azure SQL database, including the database name\n",
    "# 'demo' is the name of the table you want to create in your Azure SQL database\n",
    "\n",
    "# Configure the JDBC connection properties\n",
    "jdbc_url = sqldburl\n",
    "table_name = \"task_details\"\n",
    "properties = {\n",
    "    \"user\": user,\n",
    "    \"password\": password,\n",
    "    \"driver\": \"com.microsoft.sqlserver.jdbc.SQLServerDriver\"\n",
    "}"
   ]
  },
  {
   "cell_type": "code",
   "execution_count": 0,
   "metadata": {
    "application/vnd.databricks.v1+cell": {
     "cellMetadata": {
      "byteLimit": 2048000,
      "rowLimit": 10000
     },
     "inputWidgets": {},
     "nuid": "0a5ad974-ae2f-4a6d-a2b9-12082a356802",
     "showTitle": false,
     "title": ""
    }
   },
   "outputs": [],
   "source": [
    "task_details_df = spark.read.jdbc(url=jdbc_url, table=table_name, properties=properties)"
   ]
  },
  {
   "cell_type": "code",
   "execution_count": 0,
   "metadata": {
    "application/vnd.databricks.v1+cell": {
     "cellMetadata": {
      "byteLimit": 2048000,
      "rowLimit": 10000
     },
     "inputWidgets": {},
     "nuid": "34070b89-241f-4e04-9807-1e42330f6532",
     "showTitle": false,
     "title": ""
    }
   },
   "outputs": [],
   "source": [
    "# display(task_details_df)"
   ]
  },
  {
   "cell_type": "code",
   "execution_count": 0,
   "metadata": {
    "application/vnd.databricks.v1+cell": {
     "cellMetadata": {
      "byteLimit": 2048000,
      "rowLimit": 10000
     },
     "inputWidgets": {},
     "nuid": "0abaaa4d-448f-4800-a827-31d210531fe7",
     "showTitle": false,
     "title": ""
    }
   },
   "outputs": [],
   "source": [
    "task_completed_df = task_details_df.filter(task_details_df.completed == True)\n",
    "task_completed_df.count()"
   ]
  },
  {
   "cell_type": "code",
   "execution_count": 0,
   "metadata": {
    "application/vnd.databricks.v1+cell": {
     "cellMetadata": {
      "byteLimit": 2048000,
      "rowLimit": 10000
     },
     "inputWidgets": {},
     "nuid": "50cd9b8e-4a6c-4565-9a41-1bc11b7d4ae1",
     "showTitle": false,
     "title": ""
    }
   },
   "outputs": [],
   "source": [
    "task_not_completed_df = task_details_df.filter(task_details_df.completed == False)\n",
    "task_not_completed_df.count()"
   ]
  },
  {
   "cell_type": "code",
   "execution_count": 0,
   "metadata": {
    "application/vnd.databricks.v1+cell": {
     "cellMetadata": {
      "byteLimit": 2048000,
      "rowLimit": 10000
     },
     "inputWidgets": {},
     "nuid": "897aa9bb-f1d4-4e1f-8189-fbd6eab31c96",
     "showTitle": false,
     "title": ""
    }
   },
   "outputs": [],
   "source": [
    "task_not_completed_list = [list(row) for row in task_not_completed_df.collect()]\n",
    "# print(task_not_completed_list)"
   ]
  },
  {
   "cell_type": "code",
   "execution_count": 0,
   "metadata": {
    "application/vnd.databricks.v1+cell": {
     "cellMetadata": {
      "byteLimit": 2048000,
      "rowLimit": 10000
     },
     "inputWidgets": {},
     "nuid": "ffd6c0ee-13c7-4a33-ac9b-c508b3f9b61e",
     "showTitle": false,
     "title": ""
    }
   },
   "outputs": [],
   "source": [
    "unique_receivers_list = list(set([i[0] for i in task_not_completed_list]))\n",
    "# print(unique_receivers_list)"
   ]
  },
  {
   "cell_type": "code",
   "execution_count": 0,
   "metadata": {
    "application/vnd.databricks.v1+cell": {
     "cellMetadata": {
      "byteLimit": 2048000,
      "rowLimit": 10000
     },
     "inputWidgets": {},
     "nuid": "2bb411e0-5cd3-49ee-8271-4061c5296e8b",
     "showTitle": false,
     "title": ""
    }
   },
   "outputs": [],
   "source": [
    "# Get the today's date in this format \"16th Mar 2023\"\n",
    "from datetime import date\n",
    "\n",
    "today = date.today()\n",
    "\n",
    "day = today.strftime(\"%d\").lstrip(\"0\")\n",
    "month = today.strftime(\"%b\")\n",
    "year = today.strftime(\"%Y\")\n",
    "\n",
    "if day.endswith(\"1\") and day != \"11\":\n",
    "    suffix = \"st\"\n",
    "elif day.endswith(\"2\") and day != \"12\":\n",
    "    suffix = \"nd\"\n",
    "elif day.endswith(\"3\") and day != \"13\":\n",
    "    suffix = \"rd\"\n",
    "else:\n",
    "    suffix = \"th\"\n",
    "\n",
    "formatted_date = f\"{day}{suffix} {month} {year}\"\n",
    "print(formatted_date)"
   ]
  },
  {
   "cell_type": "code",
   "execution_count": 0,
   "metadata": {
    "application/vnd.databricks.v1+cell": {
     "cellMetadata": {
      "byteLimit": 2048000,
      "rowLimit": 10000
     },
     "inputWidgets": {},
     "nuid": "d9009c8d-31f7-477f-9c80-9742666daba8",
     "showTitle": false,
     "title": ""
    }
   },
   "outputs": [],
   "source": [
    "for receiver in unique_receivers_list:\n",
    "    data = []\n",
    "    for task in task_not_completed_list:\n",
    "        if receiver == task[0]:\n",
    "            data.append(task)\n",
    "      \n",
    "    # sort the data based on the severity of the tasks\n",
    "    data.sort(key=lambda x: x[7])\n",
    "    \n",
    "    # Create the other infos except data\n",
    "    # Get the senders mail id, the default mail by using which all the mails will be sent -----------------------------\n",
    "    sender_email = dbutils.secrets.get(scope = \"databricks-scope\", key = \"databricks-app-sender-email\")\n",
    "    email_password = dbutils.secrets.get(scope = \"databricks-scope\", key = \"databricks-app-email-password\")\n",
    "    \n",
    "    # receiver's mail id ----------------------------------------------------------------------------------------------\n",
    "    receiver_email = data[0][0]\n",
    "    \n",
    "    # get all the CCs -------------------------------------------------------------------------------------------------\n",
    "    all_cc = []\n",
    "    for d in data:\n",
    "        cc = d[8]\n",
    "        time_after_cc = d[9]\n",
    "        no_of_times_mail_sent = d[13]\n",
    "        \n",
    "        if cc and no_of_times_mail_sent >= time_after_cc:\n",
    "            all_cc.append(cc)\n",
    "    \n",
    "    # get the unique CCs\n",
    "    all_cc = list(set(all_cc))\n",
    "    \n",
    "    # if there is only one element in the all_cc arr, then make it a single string\n",
    "    if len(all_cc) == 1:\n",
    "        all_cc = all_cc[0]\n",
    "        \n",
    "    # if there is no element, the all_cc will be None\n",
    "    if len(all_cc) == 0:\n",
    "        all_cc = None\n",
    "    \n",
    "    \n",
    "    # get all the BCCs ------------------------------------------------------------------------------------------------\n",
    "    all_bcc = []\n",
    "    for d in data:\n",
    "        bcc = d[10]\n",
    "        time_after_bcc = d[11]\n",
    "        no_of_times_mail_sent = d[13]\n",
    "        \n",
    "        if bcc and no_of_times_mail_sent >= time_after_bcc:\n",
    "            all_bcc.append(bcc)\n",
    "    \n",
    "    # get the unique BCCs\n",
    "    all_bcc = list(set(all_bcc))\n",
    "    \n",
    "    # if there is only one element in the all_bcc arr, then make it a single string\n",
    "    if len(all_bcc) == 1:\n",
    "        all_bcc = all_bcc[0]\n",
    "        \n",
    "    # if there is no element, the all_bcc will be None\n",
    "    if len(all_bcc) == 0:\n",
    "        all_bcc = None\n",
    "        \n",
    "    \n",
    "    # Get the Subject ----------------------------------------------------------------------------------------------\n",
    "    subject = f\"Notification for Daily Scheduled mail to {receiver_email}. Date - {formatted_date}\"\n",
    "    \n",
    "    # Get the Body -------------------------------------------------------------------------------------------------\n",
    "    body = data[0][5]\n",
    "\n",
    "    # Call the function\n",
    "    res = send_email(sender_email, email_password, receiver_email, all_cc, all_bcc, subject, body, data)\n",
    "    print(res)\n",
    "    \n",
    "    # if the function has sent the mail successfully, increase the \"no_of_times_mail_sent\"\n",
    "    if res:\n",
    "        for task in task_not_completed_list:\n",
    "            if receiver == task[0]:\n",
    "                task[13] += 1\n",
    "\n",
    "print(\"all completed...!!\")\n"
   ]
  },
  {
   "cell_type": "code",
   "execution_count": 0,
   "metadata": {
    "application/vnd.databricks.v1+cell": {
     "cellMetadata": {
      "byteLimit": 2048000,
      "rowLimit": 10000
     },
     "inputWidgets": {},
     "nuid": "5e877799-583a-4d1e-846e-a1393ebb33fb",
     "showTitle": false,
     "title": ""
    }
   },
   "outputs": [],
   "source": [
    "#### --> here problem is some tasks will be sent as a form of html doc. but the process will be significantly faster\n",
    "\n",
    "\n",
    "# # Connect to the SMTP server and send the message\n",
    "# try:\n",
    "#     with smtplib.SMTP('smtp.office365.com', 587) as smtp:\n",
    "#         smtp.starttls()\n",
    "#         smtp.login(sender_email, 'Express@123456')\n",
    "#         #---------------------------------------------------------------------------------------------------------------------------------------------------------#\n",
    "    \n",
    "#         for receiver in unique_receivers_list:\n",
    "#             data = []\n",
    "#             for task in task_not_completed_list:\n",
    "#                 if receiver == task[0]:\n",
    "#                     data.append(task)\n",
    "            \n",
    "#             # sort the data based on the severity of the tasks\n",
    "#             data.sort(key=lambda x: x[7])\n",
    "\n",
    "#             # Create the other infos except data\n",
    "#             # Get the senders mail id, the default mail by using which all the mails will be sent -----------------------------\n",
    "#             sender_email = \"rupam.enabled.smtp.auth@gofirst.onmicrosoft.com\"\n",
    "\n",
    "#             # receiver's mail id ----------------------------------------------------------------------------------------------\n",
    "#             receiver_email = data[0][0]\n",
    "\n",
    "#             # get all the CCs -------------------------------------------------------------------------------------------------\n",
    "#             all_cc = []\n",
    "#             for d in data:\n",
    "#                 cc = d[8]\n",
    "#                 time_after_cc = d[9]\n",
    "#                 no_of_times_mail_sent = d[13]\n",
    "\n",
    "#                 if cc and no_of_times_mail_sent >= time_after_cc:\n",
    "#                     all_cc.append(cc)\n",
    "\n",
    "#             # get the unique CCs\n",
    "#             all_cc = list(set(all_cc))\n",
    "\n",
    "#             # if there is only one element in the all_cc arr, then make it a single string\n",
    "#             if len(all_cc) == 1:\n",
    "#                 all_cc = all_cc[0]\n",
    "\n",
    "#             # if there is no element, the all_cc will be None\n",
    "#             if len(all_cc) == 0:\n",
    "#                 all_cc = None\n",
    "\n",
    "\n",
    "#             # get all the BCCs ------------------------------------------------------------------------------------------------\n",
    "#             all_bcc = []\n",
    "#             for d in data:\n",
    "#                 bcc = d[10]\n",
    "#                 time_after_bcc = d[11]\n",
    "#                 no_of_times_mail_sent = d[13]\n",
    "\n",
    "#                 if bcc and no_of_times_mail_sent >= time_after_bcc:\n",
    "#                     all_bcc.append(bcc)\n",
    "\n",
    "#             # get the unique BCCs\n",
    "#             all_bcc = list(set(all_bcc))\n",
    "\n",
    "#             # if there is only one element in the all_bcc arr, then make it a single string\n",
    "#             if len(all_bcc) == 1:\n",
    "#                 all_bcc = all_bcc[0]\n",
    "\n",
    "#             # if there is no element, the all_bcc will be None\n",
    "#             if len(all_bcc) == 0:\n",
    "#                 all_bcc = None\n",
    "\n",
    "\n",
    "#             # Get the Subject ----------------------------------------------------------------------------------------------\n",
    "#             subject = f\"Notification for Daily Scheduled mail to {receiver_email}. Date - {formatted_date}\"\n",
    "\n",
    "#             # Get the Body -------------------------------------------------------------------------------------------------\n",
    "#             body = data[0][5]\n",
    "            \n",
    "#             ###---------------------------------------------------------------------------------------------------------------------###\n",
    "            \n",
    "#             message = MIMEMultipart()\n",
    "#             message['From'] = sender_email\n",
    "#             message['To'] = receiver_email\n",
    "\n",
    "#             if all_cc:\n",
    "#                 if isinstance(all_cc, list):\n",
    "#                     message['Cc'] = ','.join(all_cc)\n",
    "#                 else:\n",
    "#                     message['Cc'] = all_cc\n",
    "#             if all_bcc:\n",
    "#                 if isinstance(all_bcc, list):\n",
    "#                     message['Bcc'] = ','.join(all_bcc)\n",
    "#                 else:\n",
    "#                     message['Bcc'] = all_bcc\n",
    "\n",
    "#             if subject:\n",
    "#                 message['Subject'] = subject\n",
    "\n",
    "#             # Define the HTML content of the email\n",
    "#             body = \"\"\n",
    "#             for e in data:\n",
    "#                 # get the severity\n",
    "#                 severity = \"\"\n",
    "#                 if e[7] == 1:\n",
    "#                     severity = \"High\"\n",
    "#                 elif e[7] == 2:\n",
    "#                     severity = \"Medium\"\n",
    "#                 elif e[7] == 3:\n",
    "#                     severity = \"Low\"\n",
    "\n",
    "#                 # get the severity color\n",
    "#                 severity_color = \"white\"\n",
    "#                 if severity == 'Low':\n",
    "#                     severity_color = \"#98FB98\" # light green\n",
    "#                 elif severity == 'Medium':\n",
    "#                     severity_color = \"#F0E68C\" # khaki\n",
    "#                 elif severity == 'High':\n",
    "#                     severity_color = \"#FFA07A\" # light salmon\n",
    "\n",
    "#                 header = f\"<h2 style='font-size: 18px; margin-top: 10px; margin-bottom: 5px;'>{e[4]}</h2>\"\n",
    "#                 content = f\"<p style='font-size: 16px; margin-top: 5px; margin-bottom: 5px; '>{highlight_links(e[5])}</p>\"\n",
    "#                 given_date_and_given_by = f\"<p style='font-size: 14px; margin-top: 5px; margin-bottom: 5px;'>Given By: {e[2]} || Date: {e[3]}</p>\"\n",
    "#                 completed_date = f\"<p style='font-size: 14px; font-weight: bold; color: #454545; background-color: yellow; display: inline-block; padding: 5px 10px; margin-top: 5px; margin-bottom: 5px;'>Complete By: {e[6]}</p>\"\n",
    "#                 severity = f\"<p style='background-color: {severity_color}; color: black; font-size: 14px; display: inline-block; padding: 5px 10px; border-radius: 5px; margin-top: 5px; margin-bottom: 5px;'>Severity - {severity.capitalize()}</p>\"\n",
    "\n",
    "#                 body += f\"<div style='border: 1px solid #ddd; padding: 10px;'>{severity} {given_date_and_given_by} {completed_date}<br/>{header}{content}</div>\"\n",
    "\n",
    "\n",
    "#                 # Attach the HTML body to the message\n",
    "#                 message.attach(MIMEText(body, 'html'))\n",
    "        \n",
    "#         #-----------------------------------------------------------------------------------------------------------------------------------------------------------#\n",
    "#             smtp.send_message(message)\n",
    "#             for task in task_not_completed_list:\n",
    "#                 if receiver == task[0]:\n",
    "#                     task[13] += 1\n",
    "# except Exception as e:\n",
    "#     print(e)\n",
    "# else:\n",
    "#     print(True)"
   ]
  },
  {
   "cell_type": "code",
   "execution_count": 0,
   "metadata": {
    "application/vnd.databricks.v1+cell": {
     "cellMetadata": {
      "byteLimit": 2048000,
      "rowLimit": 10000
     },
     "inputWidgets": {},
     "nuid": "19b63328-2ecd-4ec2-978e-fd7828e6c738",
     "showTitle": false,
     "title": ""
    }
   },
   "outputs": [],
   "source": [
    "dbutils.notebook.exit(\"success\")"
   ]
  }
 ],
 "metadata": {
  "application/vnd.databricks.v1+notebook": {
   "dashboards": [],
   "language": "python",
   "notebookMetadata": {
    "pythonIndentUnit": 4
   },
   "notebookName": "daily_scheduled_mail",
   "notebookOrigID": 27192471555213,
   "widgets": {}
  }
 },
 "nbformat": 4,
 "nbformat_minor": 0
}
