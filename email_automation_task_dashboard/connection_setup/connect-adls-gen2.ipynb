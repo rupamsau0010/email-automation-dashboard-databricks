{
 "cells": [
  {
   "cell_type": "markdown",
   "metadata": {
    "application/vnd.databricks.v1+cell": {
     "cellMetadata": {
      "byteLimit": 2048000,
      "rowLimit": 10000
     },
     "inputWidgets": {},
     "nuid": "e8e1e7b3-e004-41b1-b446-90f8cd74ced2",
     "showTitle": false,
     "title": ""
    }
   },
   "source": [
    "Connect ADLS Gen2 for Email Automation project"
   ]
  },
  {
   "cell_type": "code",
   "execution_count": 0,
   "metadata": {
    "application/vnd.databricks.v1+cell": {
     "cellMetadata": {
      "byteLimit": 2048000,
      "rowLimit": 10000
     },
     "inputWidgets": {},
     "nuid": "c34e9ec3-6c09-40e0-b20f-605e41bf128e",
     "showTitle": false,
     "title": ""
    }
   },
   "outputs": [],
   "source": [
    "storage_account_name = \"rupamemailautomation \"\n",
    "client_id = dbutils.secrets.get(scope = \"databricks-scope\", key = \"databricks-app-client-id\")\n",
    "tenant_id = dbutils.secrets.get(scope = \"databricks-scope\", key = \"databricks-app-tenant-id\")\n",
    "client_secret = dbutils.secrets.get(scope = \"databricks-scope\", key = \"databricks-app-client-secret\")"
   ]
  },
  {
   "cell_type": "code",
   "execution_count": 0,
   "metadata": {
    "application/vnd.databricks.v1+cell": {
     "cellMetadata": {
      "byteLimit": 2048000,
      "rowLimit": 10000
     },
     "inputWidgets": {},
     "nuid": "95bd41e2-0d69-4c8d-a648-da85585e351f",
     "showTitle": false,
     "title": ""
    }
   },
   "outputs": [],
   "source": [
    "configs = {\n",
    "    \"fs.azure.account.auth.type\": \"OAuth\",\n",
    "    \"fs.azure.account.oauth.provider.type\": \"org.apache.hadoop.fs.azurebfs.oauth2.ClientCredsTokenProvider\",\n",
    "    \"fs.azure.account.oauth2.client.id\": f\"{client_id}\",\n",
    "    \"fs.azure.account.oauth2.client.secret\": f\"{client_secret}\",\n",
    "    \"fs.azure.account.oauth2.client.endpoint\": f\"https://login.microsoftonline.com/{tenant_id}/oauth2/token\",\n",
    "    \"fs.azure.createRemoteFileSystemDuringInitialization\": \"true\",\n",
    "    \"fs.azure.permissions.blob.directory.rupamemailautomation.users.rwx\": \"true\"\n",
    "}"
   ]
  },
  {
   "cell_type": "code",
   "execution_count": 0,
   "metadata": {
    "application/vnd.databricks.v1+cell": {
     "cellMetadata": {
      "byteLimit": 2048000,
      "rowLimit": 10000
     },
     "inputWidgets": {},
     "nuid": "d31aa255-42a9-4e70-9288-323e70c1bf0b",
     "showTitle": true,
     "title": "Function to mount a specific container"
    }
   },
   "outputs": [],
   "source": [
    "def mount_adls(container_name, storage_account_name):\n",
    "    dbutils.fs.mount(\n",
    "        source = f\"abfss://{container_name}@{storage_account_name}.dfs.core.windows.net/\",\n",
    "        mount_point = f\"/mnt/{storage_account_name}/{container_name}\",\n",
    "        extra_configs = configs\n",
    "    )"
   ]
  },
  {
   "cell_type": "code",
   "execution_count": 0,
   "metadata": {
    "application/vnd.databricks.v1+cell": {
     "cellMetadata": {
      "byteLimit": 2048000,
      "rowLimit": 10000
     },
     "inputWidgets": {},
     "nuid": "7aa08e15-79e3-4c6a-be60-558d997eeed5",
     "showTitle": true,
     "title": "Check the storage is already mounted or not. If not then call the \"mount_adls()\" function "
    }
   },
   "outputs": [],
   "source": [
    "def call_mount_adls_if_already_not_mounted(container_name, storage_account_name):\n",
    "    mounts = dbutils.fs.mounts()\n",
    "    storage_account_name_arr = []\n",
    "    container_name_arr = []\n",
    "\n",
    "    for urls in mounts:\n",
    "        # print(urls.mountPoint[:4])\n",
    "        if urls.mountPoint[:4] == \"/mnt\":\n",
    "            storage_account_name_arr.append(urls.mountPoint.split(\"/\")[2])\n",
    "            # print(urls.mountPoint.split(\"/\")[2])\n",
    "            container_name_arr.append(urls.mountPoint.split(\"/\")[3])\n",
    "            # print(urls.mountPoint.split(\"/\")[3])\n",
    "\n",
    "    # print(storage_account_name_arr)\n",
    "    # print(container_name_arr)\n",
    "    if container_name not in container_name_arr or storage_account_name not in storage_account_name_arr:\n",
    "        mount_adls(container_name, storage_account_name)\n"
   ]
  },
  {
   "cell_type": "code",
   "execution_count": 0,
   "metadata": {
    "application/vnd.databricks.v1+cell": {
     "cellMetadata": {
      "byteLimit": 2048000,
      "rowLimit": 10000
     },
     "inputWidgets": {},
     "nuid": "63951ba3-491a-4fe0-98ae-49dd576f329c",
     "showTitle": true,
     "title": "call the main function - call_mount_adls_if_already_not_mounted() to mount the containers"
    }
   },
   "outputs": [],
   "source": [
    "call_mount_adls_if_already_not_mounted(\"managersdata\", \"rupamemailautomation\")\n",
    "\n",
    "call_mount_adls_if_already_not_mounted(\"employeesdata\", \"rupamemailautomation\")"
   ]
  },
  {
   "cell_type": "code",
   "execution_count": 0,
   "metadata": {
    "application/vnd.databricks.v1+cell": {
     "cellMetadata": {
      "byteLimit": 2048000,
      "rowLimit": 10000
     },
     "inputWidgets": {},
     "nuid": "a5407da9-b46d-481f-a11a-b3398b01dab1",
     "showTitle": true,
     "title": "Test connection - 1"
    }
   },
   "outputs": [],
   "source": [
    "dbutils.fs.ls(\"/mnt/rupamemailautomation\")"
   ]
  },
  {
   "cell_type": "code",
   "execution_count": 0,
   "metadata": {
    "application/vnd.databricks.v1+cell": {
     "cellMetadata": {
      "byteLimit": 2048000,
      "rowLimit": 10000
     },
     "inputWidgets": {},
     "nuid": "aa01002e-c089-4787-a83f-ac42b993ec1d",
     "showTitle": true,
     "title": "Test connection - 2"
    }
   },
   "outputs": [],
   "source": [
    "# dbutils.fs.ls(\"/mnt/rupamemailautomation/managersdata\")"
   ]
  },
  {
   "cell_type": "code",
   "execution_count": 0,
   "metadata": {
    "application/vnd.databricks.v1+cell": {
     "cellMetadata": {
      "byteLimit": 2048000,
      "rowLimit": 10000
     },
     "inputWidgets": {},
     "nuid": "f78ef9eb-a47d-426c-9161-677097ed58b6",
     "showTitle": true,
     "title": "Test connection by getting data from a mount container"
    }
   },
   "outputs": [],
   "source": [
    "# df = spark.read \\\n",
    "#   .option(\"inferSchema\" , True,) \\\n",
    "#   .option(\"header\", True) \\\n",
    "#   .csv(\"dbfs:/mnt/rupamemailautomation/managersdata/manager.two_03.04.23.csv\")\n",
    "\n",
    "# display(df)"
   ]
  },
  {
   "cell_type": "code",
   "execution_count": 0,
   "metadata": {
    "application/vnd.databricks.v1+cell": {
     "cellMetadata": {
      "byteLimit": 2048000,
      "rowLimit": 10000
     },
     "inputWidgets": {},
     "nuid": "fafa9adc-2256-4e4f-934f-45dfad97d8de",
     "showTitle": true,
     "title": "Code for unmounting a container - if needed"
    }
   },
   "outputs": [],
   "source": [
    "# dbutils.fs.unmount(\"/mnt/rupamemailautomation/managersdata\")\n",
    "\n",
    "# dbutils.fs.unmount(\"/mnt/rupamemailautomation/employeesdata\")"
   ]
  },
  {
   "cell_type": "code",
   "execution_count": 0,
   "metadata": {
    "application/vnd.databricks.v1+cell": {
     "cellMetadata": {
      "byteLimit": 2048000,
      "rowLimit": 10000
     },
     "inputWidgets": {},
     "nuid": "a207cce9-66f8-4ec2-8d45-de4dab417524",
     "showTitle": true,
     "title": "Successfully Exit the notebook"
    }
   },
   "outputs": [],
   "source": [
    "dbutils.notebook.exit(\"success\")"
   ]
  }
 ],
 "metadata": {
  "application/vnd.databricks.v1+notebook": {
   "dashboards": [],
   "language": "python",
   "notebookMetadata": {
    "pythonIndentUnit": 4
   },
   "notebookName": "connect-adls-gen2",
   "notebookOrigID": 18904078283300,
   "widgets": {}
  }
 },
 "nbformat": 4,
 "nbformat_minor": 0
}
