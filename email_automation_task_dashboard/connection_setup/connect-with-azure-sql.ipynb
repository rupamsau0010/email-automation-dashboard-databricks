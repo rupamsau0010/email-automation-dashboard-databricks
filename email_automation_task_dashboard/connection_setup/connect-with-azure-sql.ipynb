{
 "cells": [
  {
   "cell_type": "code",
   "execution_count": 0,
   "metadata": {
    "application/vnd.databricks.v1+cell": {
     "cellMetadata": {
      "byteLimit": 2048000,
      "rowLimit": 10000
     },
     "inputWidgets": {},
     "nuid": "f8479573-671c-431b-abf6-1c31d3122a42",
     "showTitle": false,
     "title": ""
    }
   },
   "outputs": [],
   "source": [
    "sqldburl = dbutils.secrets.get(scope = \"databricks-scope\", key = \"databricks-app-sqldb-url\")"
   ]
  },
  {
   "cell_type": "code",
   "execution_count": 0,
   "metadata": {
    "application/vnd.databricks.v1+cell": {
     "cellMetadata": {
      "byteLimit": 2048000,
      "rowLimit": 10000
     },
     "inputWidgets": {},
     "nuid": "54096340-5dfa-4df9-b7b8-1493ab13f971",
     "showTitle": true,
     "title": "Testing Connection"
    }
   },
   "outputs": [],
   "source": [
    "# df1 = spark.read.jdbc(sqldburl, \"demo\")\n",
    "# df1.show()"
   ]
  },
  {
   "cell_type": "code",
   "execution_count": 0,
   "metadata": {
    "application/vnd.databricks.v1+cell": {
     "cellMetadata": {},
     "inputWidgets": {},
     "nuid": "e9d93a52-da45-4d74-8ae5-0f88914bb2cf",
     "showTitle": true,
     "title": "Successfully Exit the notebook"
    }
   },
   "outputs": [],
   "source": [
    "dbutils.notebook.exit(\"success\")"
   ]
  }
 ],
 "metadata": {
  "application/vnd.databricks.v1+notebook": {
   "dashboards": [],
   "language": "python",
   "notebookMetadata": {
    "pythonIndentUnit": 4
   },
   "notebookName": "connect-with-azure-sql",
   "notebookOrigID": 27192471555209,
   "widgets": {}
  }
 },
 "nbformat": 4,
 "nbformat_minor": 0
}
